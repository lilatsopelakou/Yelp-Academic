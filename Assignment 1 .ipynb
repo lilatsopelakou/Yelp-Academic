{
 "cells": [
  {
   "cell_type": "markdown",
   "metadata": {},
   "source": [
    "# Business Analytics Practicum: Assignment 1\n",
    "## Tsopelakou Aglaia\n",
    "## BAFT 1716\n"
   ]
  },
  {
   "cell_type": "code",
   "execution_count": 3,
   "metadata": {},
   "outputs": [],
   "source": [
    "import numpy as np\n",
    "import pandas as pd\n",
    "import matplotlib.pyplot as plt\n",
    "import itertools\n",
    "import re\n",
    "import statistics\n",
    "from sklearn.metrics.pairwise import cosine_similarity, euclidean_distances\n",
    "import json\n",
    "import os"
   ]
  },
  {
   "cell_type": "markdown",
   "metadata": {},
   "source": [
    "Question 1 (20 points):\n",
    "\n",
    "A. Write a function called is_palindrome() that takes in a single string\n",
    "argument and returns True or False depending on whether the string is a\n",
    "palindrome\n",
    "\n",
    "\n"
   ]
  },
  {
   "cell_type": "code",
   "execution_count": 11,
   "metadata": {},
   "outputs": [
    {
     "data": {
      "text/plain": [
       "False"
      ]
     },
     "execution_count": 11,
     "metadata": {},
     "output_type": "execute_result"
    }
   ],
   "source": [
    "\n",
    "def is_palindrome(num):\n",
    "    if num[::-1] == num:\n",
    "       return True\n",
    "    else:\n",
    "       return False\n",
    "\n",
    "\n",
    "my_string = 'Hello'\n",
    "is_palindrome(my_string)\n"
   ]
  },
  {
   "cell_type": "code",
   "execution_count": 12,
   "metadata": {},
   "outputs": [
    {
     "data": {
      "text/plain": [
       "True"
      ]
     },
     "execution_count": 12,
     "metadata": {},
     "output_type": "execute_result"
    }
   ],
   "source": [
    "my_string2 = 'anna'\n",
    "is_palindrome(my_string2)"
   ]
  },
  {
   "cell_type": "markdown",
   "metadata": {},
   "source": [
    "\n",
    "B. Write a function that takes two lists of equal length and creates a set of all\n",
    "possible tuples where the first element is from the first list and the second\n",
    "element is from the second list"
   ]
  },
  {
   "cell_type": "code",
   "execution_count": 13,
   "metadata": {},
   "outputs": [],
   "source": [
    "def tuples(group1,group2):\n",
    " return list(zip(group1, group2))\n"
   ]
  },
  {
   "cell_type": "code",
   "execution_count": 14,
   "metadata": {},
   "outputs": [
    {
     "data": {
      "text/plain": [
       "[('a', 'c'), ('b', 'd')]"
      ]
     },
     "execution_count": 14,
     "metadata": {},
     "output_type": "execute_result"
    }
   ],
   "source": [
    "group1 = ['a', 'b']\n",
    "group2 = ['c', 'd']\n",
    "\n",
    "group3 = ['a', 'b','e']\n",
    "group4 = ['c', 'd','f']\n",
    "tuples(group1,group2)"
   ]
  },
  {
   "cell_type": "code",
   "execution_count": 15,
   "metadata": {},
   "outputs": [
    {
     "data": {
      "text/plain": [
       "[('a', 'c'), ('b', 'd'), ('e', 'f')]"
      ]
     },
     "execution_count": 15,
     "metadata": {},
     "output_type": "execute_result"
    }
   ],
   "source": [
    "tuples(group3,group4)"
   ]
  },
  {
   "cell_type": "markdown",
   "metadata": {},
   "source": [
    "\n",
    "C. Write a function that takes in a set of strings and computes the powerset,\n",
    "i.e. the set of all possible subsets"
   ]
  },
  {
   "cell_type": "code",
   "execution_count": 16,
   "metadata": {},
   "outputs": [],
   "source": [
    "def powerset(s):\n",
    "    lst = []\n",
    "    for i in range(0,len(s)+1):\n",
    "        subset = (set(itertools.combinations(s, i)))\n",
    "        lst.append(subset)\n",
    "    return lst"
   ]
  },
  {
   "cell_type": "code",
   "execution_count": 17,
   "metadata": {},
   "outputs": [
    {
     "data": {
      "text/plain": [
       "[{()},\n",
       " {('c',), ('g',), ('v',), ('w',), ('x',)},\n",
       " {('g', 'c'),\n",
       "  ('v', 'c'),\n",
       "  ('v', 'g'),\n",
       "  ('w', 'c'),\n",
       "  ('w', 'g'),\n",
       "  ('w', 'v'),\n",
       "  ('w', 'x'),\n",
       "  ('x', 'c'),\n",
       "  ('x', 'g'),\n",
       "  ('x', 'v')},\n",
       " {('v', 'g', 'c'),\n",
       "  ('w', 'g', 'c'),\n",
       "  ('w', 'v', 'c'),\n",
       "  ('w', 'v', 'g'),\n",
       "  ('w', 'x', 'c'),\n",
       "  ('w', 'x', 'g'),\n",
       "  ('w', 'x', 'v'),\n",
       "  ('x', 'g', 'c'),\n",
       "  ('x', 'v', 'c'),\n",
       "  ('x', 'v', 'g')},\n",
       " {('w', 'v', 'g', 'c'),\n",
       "  ('w', 'x', 'g', 'c'),\n",
       "  ('w', 'x', 'v', 'c'),\n",
       "  ('w', 'x', 'v', 'g'),\n",
       "  ('x', 'v', 'g', 'c')},\n",
       " {('w', 'x', 'v', 'g', 'c')}]"
      ]
     },
     "execution_count": 17,
     "metadata": {},
     "output_type": "execute_result"
    }
   ],
   "source": [
    "x={'x','c','v','x','w','g'}\n",
    "powerset(x)"
   ]
  },
  {
   "cell_type": "markdown",
   "metadata": {},
   "source": [
    "\n",
    "D. Write a function that takes in a dictionary whose keys are strings and a\n",
    "regular expression and returns a list of keys from the dictionary that\n",
    "match that regular expression"
   ]
  },
  {
   "cell_type": "code",
   "execution_count": 4,
   "metadata": {},
   "outputs": [],
   "source": [
    "def printkeys(string, regex):\n",
    "    lst = []\n",
    "    for key in dict:\n",
    "      if regex.match(key):\n",
    "          lst.append(key)\n",
    "    return lst\n",
    "\n"
   ]
  },
  {
   "cell_type": "code",
   "execution_count": 9,
   "metadata": {},
   "outputs": [
    {
     "data": {
      "text/plain": [
       "['lila1', 'tsopelakou2']"
      ]
     },
     "execution_count": 9,
     "metadata": {},
     "output_type": "execute_result"
    }
   ],
   "source": [
    "dict={'abcd':None,'efgh':None,'123':None, 'lila1':None, 'tsopelakou2':None}\n",
    "regex = re.compile('^(?=.*[a-zA-Z])(?=.*[0-9])')\n",
    "\n",
    "printkeys(dict, regex)"
   ]
  },
  {
   "cell_type": "markdown",
   "metadata": {},
   "source": [
    "Question 2 (28 points):\n",
    "\n",
    "Load the summary file into a Pandas data frame, calling it sumdf"
   ]
  },
  {
   "cell_type": "code",
   "execution_count": 20,
   "metadata": {},
   "outputs": [
    {
     "data": {
      "text/plain": [
       "'C:\\\\Users\\\\tsope'"
      ]
     },
     "execution_count": 20,
     "metadata": {},
     "output_type": "execute_result"
    }
   ],
   "source": [
    "os.getcwd()"
   ]
  },
  {
   "cell_type": "code",
   "execution_count": 21,
   "metadata": {},
   "outputs": [],
   "source": [
    "path=\"/Users/tsope/Desktop\"\n",
    "os.chdir(path)"
   ]
  },
  {
   "cell_type": "code",
   "execution_count": 22,
   "metadata": {},
   "outputs": [],
   "source": [
    "data_filename = 'gombe_128.csv'\n",
    "sumdf=pd.read_csv(data_filename,sep=\",\",encoding=\"utf-8\")\n",
    "sumdf = pd.DataFrame(sumdf)"
   ]
  },
  {
   "cell_type": "code",
   "execution_count": 23,
   "metadata": {},
   "outputs": [
    {
     "data": {
      "text/html": [
       "<div>\n",
       "<style scoped>\n",
       "    .dataframe tbody tr th:only-of-type {\n",
       "        vertical-align: middle;\n",
       "    }\n",
       "\n",
       "    .dataframe tbody tr th {\n",
       "        vertical-align: top;\n",
       "    }\n",
       "\n",
       "    .dataframe thead th {\n",
       "        text-align: right;\n",
       "    }\n",
       "</style>\n",
       "<table border=\"1\" class=\"dataframe\">\n",
       "  <thead>\n",
       "    <tr style=\"text-align: right;\">\n",
       "      <th></th>\n",
       "      <th>chimpcode</th>\n",
       "      <th>sex</th>\n",
       "      <th>kasekela</th>\n",
       "      <th>dom</th>\n",
       "      <th>sol</th>\n",
       "      <th>impl</th>\n",
       "      <th>symp</th>\n",
       "      <th>stbl</th>\n",
       "      <th>invt</th>\n",
       "      <th>depd</th>\n",
       "      <th>...</th>\n",
       "      <th>pred</th>\n",
       "      <th>conv</th>\n",
       "      <th>cool</th>\n",
       "      <th>innov</th>\n",
       "      <th>dominance</th>\n",
       "      <th>extraversion</th>\n",
       "      <th>conscientiousness</th>\n",
       "      <th>agreeableness</th>\n",
       "      <th>neuroticism</th>\n",
       "      <th>openness</th>\n",
       "    </tr>\n",
       "  </thead>\n",
       "  <tbody>\n",
       "    <tr>\n",
       "      <th>0</th>\n",
       "      <td>E131</td>\n",
       "      <td>0</td>\n",
       "      <td>0.142857</td>\n",
       "      <td>2.428571</td>\n",
       "      <td>3.857143</td>\n",
       "      <td>3.000000</td>\n",
       "      <td>5.571429</td>\n",
       "      <td>4.285714</td>\n",
       "      <td>4.142857</td>\n",
       "      <td>4.285714</td>\n",
       "      <td>...</td>\n",
       "      <td>3.428571</td>\n",
       "      <td>4.285714</td>\n",
       "      <td>5.285714</td>\n",
       "      <td>4.000000</td>\n",
       "      <td>3.571429</td>\n",
       "      <td>4.642857</td>\n",
       "      <td>4.809524</td>\n",
       "      <td>5.047619</td>\n",
       "      <td>3.714286</td>\n",
       "      <td>3.642857</td>\n",
       "    </tr>\n",
       "    <tr>\n",
       "      <th>1</th>\n",
       "      <td>P70</td>\n",
       "      <td>1</td>\n",
       "      <td>1.000000</td>\n",
       "      <td>4.666667</td>\n",
       "      <td>3.333333</td>\n",
       "      <td>4.333333</td>\n",
       "      <td>4.666667</td>\n",
       "      <td>4.000000</td>\n",
       "      <td>2.666667</td>\n",
       "      <td>4.666667</td>\n",
       "      <td>...</td>\n",
       "      <td>5.333333</td>\n",
       "      <td>5.333333</td>\n",
       "      <td>3.666667</td>\n",
       "      <td>4.333333</td>\n",
       "      <td>4.888889</td>\n",
       "      <td>4.333333</td>\n",
       "      <td>4.222222</td>\n",
       "      <td>5.666667</td>\n",
       "      <td>4.000000</td>\n",
       "      <td>3.500000</td>\n",
       "    </tr>\n",
       "    <tr>\n",
       "      <th>2</th>\n",
       "      <td>G74</td>\n",
       "      <td>1</td>\n",
       "      <td>0.000000</td>\n",
       "      <td>3.333333</td>\n",
       "      <td>3.166667</td>\n",
       "      <td>3.500000</td>\n",
       "      <td>5.500000</td>\n",
       "      <td>5.166667</td>\n",
       "      <td>4.166667</td>\n",
       "      <td>5.666667</td>\n",
       "      <td>...</td>\n",
       "      <td>3.166667</td>\n",
       "      <td>3.333333</td>\n",
       "      <td>4.833333</td>\n",
       "      <td>4.666667</td>\n",
       "      <td>3.500000</td>\n",
       "      <td>4.750000</td>\n",
       "      <td>4.222222</td>\n",
       "      <td>5.222222</td>\n",
       "      <td>3.250000</td>\n",
       "      <td>3.875000</td>\n",
       "    </tr>\n",
       "    <tr>\n",
       "      <th>3</th>\n",
       "      <td>A364</td>\n",
       "      <td>0</td>\n",
       "      <td>0.000000</td>\n",
       "      <td>1.666667</td>\n",
       "      <td>1.333333</td>\n",
       "      <td>2.000000</td>\n",
       "      <td>2.666667</td>\n",
       "      <td>4.666667</td>\n",
       "      <td>3.333333</td>\n",
       "      <td>2.666667</td>\n",
       "      <td>...</td>\n",
       "      <td>4.000000</td>\n",
       "      <td>3.000000</td>\n",
       "      <td>4.333333</td>\n",
       "      <td>4.666667</td>\n",
       "      <td>3.777778</td>\n",
       "      <td>5.166667</td>\n",
       "      <td>5.222222</td>\n",
       "      <td>3.666667</td>\n",
       "      <td>3.333333</td>\n",
       "      <td>3.750000</td>\n",
       "    </tr>\n",
       "    <tr>\n",
       "      <th>4</th>\n",
       "      <td>B89</td>\n",
       "      <td>0</td>\n",
       "      <td>1.000000</td>\n",
       "      <td>3.000000</td>\n",
       "      <td>4.666667</td>\n",
       "      <td>3.000000</td>\n",
       "      <td>4.333333</td>\n",
       "      <td>2.666667</td>\n",
       "      <td>3.000000</td>\n",
       "      <td>5.000000</td>\n",
       "      <td>...</td>\n",
       "      <td>3.666667</td>\n",
       "      <td>3.333333</td>\n",
       "      <td>5.333333</td>\n",
       "      <td>5.333333</td>\n",
       "      <td>3.333333</td>\n",
       "      <td>4.250000</td>\n",
       "      <td>4.555556</td>\n",
       "      <td>4.111111</td>\n",
       "      <td>4.166667</td>\n",
       "      <td>3.833333</td>\n",
       "    </tr>\n",
       "    <tr>\n",
       "      <th>5</th>\n",
       "      <td>G19</td>\n",
       "      <td>1</td>\n",
       "      <td>1.000000</td>\n",
       "      <td>4.000000</td>\n",
       "      <td>2.666667</td>\n",
       "      <td>2.666667</td>\n",
       "      <td>3.333333</td>\n",
       "      <td>4.000000</td>\n",
       "      <td>2.333333</td>\n",
       "      <td>5.000000</td>\n",
       "      <td>...</td>\n",
       "      <td>4.000000</td>\n",
       "      <td>3.666667</td>\n",
       "      <td>4.333333</td>\n",
       "      <td>4.000000</td>\n",
       "      <td>3.881611</td>\n",
       "      <td>5.000000</td>\n",
       "      <td>4.444444</td>\n",
       "      <td>3.666667</td>\n",
       "      <td>3.333333</td>\n",
       "      <td>3.583333</td>\n",
       "    </tr>\n",
       "    <tr>\n",
       "      <th>6</th>\n",
       "      <td>Z201</td>\n",
       "      <td>0</td>\n",
       "      <td>1.000000</td>\n",
       "      <td>3.000000</td>\n",
       "      <td>2.666667</td>\n",
       "      <td>1.666667</td>\n",
       "      <td>4.333333</td>\n",
       "      <td>3.333333</td>\n",
       "      <td>3.000000</td>\n",
       "      <td>3.666667</td>\n",
       "      <td>...</td>\n",
       "      <td>4.000000</td>\n",
       "      <td>2.666667</td>\n",
       "      <td>4.666667</td>\n",
       "      <td>3.666667</td>\n",
       "      <td>3.777778</td>\n",
       "      <td>5.416667</td>\n",
       "      <td>4.888889</td>\n",
       "      <td>3.777778</td>\n",
       "      <td>4.000000</td>\n",
       "      <td>3.250000</td>\n",
       "    </tr>\n",
       "    <tr>\n",
       "      <th>7</th>\n",
       "      <td>N319</td>\n",
       "      <td>1</td>\n",
       "      <td>1.000000</td>\n",
       "      <td>3.333333</td>\n",
       "      <td>3.666667</td>\n",
       "      <td>4.333333</td>\n",
       "      <td>4.666667</td>\n",
       "      <td>4.333333</td>\n",
       "      <td>3.666667</td>\n",
       "      <td>5.666667</td>\n",
       "      <td>...</td>\n",
       "      <td>5.666667</td>\n",
       "      <td>5.000000</td>\n",
       "      <td>4.333333</td>\n",
       "      <td>5.000000</td>\n",
       "      <td>3.555556</td>\n",
       "      <td>5.166667</td>\n",
       "      <td>4.000000</td>\n",
       "      <td>4.666667</td>\n",
       "      <td>3.333333</td>\n",
       "      <td>3.750000</td>\n",
       "    </tr>\n",
       "    <tr>\n",
       "      <th>8</th>\n",
       "      <td>K58</td>\n",
       "      <td>0</td>\n",
       "      <td>0.000000</td>\n",
       "      <td>3.000000</td>\n",
       "      <td>2.333333</td>\n",
       "      <td>3.833333</td>\n",
       "      <td>4.833333</td>\n",
       "      <td>2.833333</td>\n",
       "      <td>4.833333</td>\n",
       "      <td>4.000000</td>\n",
       "      <td>...</td>\n",
       "      <td>3.500000</td>\n",
       "      <td>3.166667</td>\n",
       "      <td>4.666667</td>\n",
       "      <td>5.333333</td>\n",
       "      <td>3.944444</td>\n",
       "      <td>4.833333</td>\n",
       "      <td>3.833333</td>\n",
       "      <td>4.888040</td>\n",
       "      <td>4.833333</td>\n",
       "      <td>5.041667</td>\n",
       "    </tr>\n",
       "    <tr>\n",
       "      <th>9</th>\n",
       "      <td>X261</td>\n",
       "      <td>0</td>\n",
       "      <td>1.000000</td>\n",
       "      <td>3.333333</td>\n",
       "      <td>6.333333</td>\n",
       "      <td>4.666667</td>\n",
       "      <td>4.333333</td>\n",
       "      <td>4.000000</td>\n",
       "      <td>4.666667</td>\n",
       "      <td>4.000000</td>\n",
       "      <td>...</td>\n",
       "      <td>4.333333</td>\n",
       "      <td>5.000000</td>\n",
       "      <td>4.666667</td>\n",
       "      <td>2.666667</td>\n",
       "      <td>4.222222</td>\n",
       "      <td>3.166667</td>\n",
       "      <td>4.333333</td>\n",
       "      <td>4.111111</td>\n",
       "      <td>3.666667</td>\n",
       "      <td>3.333333</td>\n",
       "    </tr>\n",
       "  </tbody>\n",
       "</table>\n",
       "<p>10 rows × 33 columns</p>\n",
       "</div>"
      ],
      "text/plain": [
       "  chimpcode  sex  kasekela       dom       sol      impl      symp      stbl  \\\n",
       "0      E131    0  0.142857  2.428571  3.857143  3.000000  5.571429  4.285714   \n",
       "1       P70    1  1.000000  4.666667  3.333333  4.333333  4.666667  4.000000   \n",
       "2       G74    1  0.000000  3.333333  3.166667  3.500000  5.500000  5.166667   \n",
       "3      A364    0  0.000000  1.666667  1.333333  2.000000  2.666667  4.666667   \n",
       "4       B89    0  1.000000  3.000000  4.666667  3.000000  4.333333  2.666667   \n",
       "5       G19    1  1.000000  4.000000  2.666667  2.666667  3.333333  4.000000   \n",
       "6      Z201    0  1.000000  3.000000  2.666667  1.666667  4.333333  3.333333   \n",
       "7      N319    1  1.000000  3.333333  3.666667  4.333333  4.666667  4.333333   \n",
       "8       K58    0  0.000000  3.000000  2.333333  3.833333  4.833333  2.833333   \n",
       "9      X261    0  1.000000  3.333333  6.333333  4.666667  4.333333  4.000000   \n",
       "\n",
       "       invt      depd    ...         pred      conv      cool     innov  \\\n",
       "0  4.142857  4.285714    ...     3.428571  4.285714  5.285714  4.000000   \n",
       "1  2.666667  4.666667    ...     5.333333  5.333333  3.666667  4.333333   \n",
       "2  4.166667  5.666667    ...     3.166667  3.333333  4.833333  4.666667   \n",
       "3  3.333333  2.666667    ...     4.000000  3.000000  4.333333  4.666667   \n",
       "4  3.000000  5.000000    ...     3.666667  3.333333  5.333333  5.333333   \n",
       "5  2.333333  5.000000    ...     4.000000  3.666667  4.333333  4.000000   \n",
       "6  3.000000  3.666667    ...     4.000000  2.666667  4.666667  3.666667   \n",
       "7  3.666667  5.666667    ...     5.666667  5.000000  4.333333  5.000000   \n",
       "8  4.833333  4.000000    ...     3.500000  3.166667  4.666667  5.333333   \n",
       "9  4.666667  4.000000    ...     4.333333  5.000000  4.666667  2.666667   \n",
       "\n",
       "   dominance  extraversion  conscientiousness  agreeableness  neuroticism  \\\n",
       "0   3.571429      4.642857           4.809524       5.047619     3.714286   \n",
       "1   4.888889      4.333333           4.222222       5.666667     4.000000   \n",
       "2   3.500000      4.750000           4.222222       5.222222     3.250000   \n",
       "3   3.777778      5.166667           5.222222       3.666667     3.333333   \n",
       "4   3.333333      4.250000           4.555556       4.111111     4.166667   \n",
       "5   3.881611      5.000000           4.444444       3.666667     3.333333   \n",
       "6   3.777778      5.416667           4.888889       3.777778     4.000000   \n",
       "7   3.555556      5.166667           4.000000       4.666667     3.333333   \n",
       "8   3.944444      4.833333           3.833333       4.888040     4.833333   \n",
       "9   4.222222      3.166667           4.333333       4.111111     3.666667   \n",
       "\n",
       "   openness  \n",
       "0  3.642857  \n",
       "1  3.500000  \n",
       "2  3.875000  \n",
       "3  3.750000  \n",
       "4  3.833333  \n",
       "5  3.583333  \n",
       "6  3.250000  \n",
       "7  3.750000  \n",
       "8  5.041667  \n",
       "9  3.333333  \n",
       "\n",
       "[10 rows x 33 columns]"
      ]
     },
     "execution_count": 23,
     "metadata": {},
     "output_type": "execute_result"
    }
   ],
   "source": [
    "sumdf.head(10)"
   ]
  },
  {
   "cell_type": "markdown",
   "metadata": {},
   "source": [
    "\n",
    "A. What is the difference between the mean and median values of the\n",
    "neuroticism score?"
   ]
  },
  {
   "cell_type": "code",
   "execution_count": 24,
   "metadata": {},
   "outputs": [],
   "source": [
    "mean_neuroticism=sumdf[\"neuroticism\"].mean()\n",
    "median_neuroticism=sumdf[\"neuroticism\"].median()\n",
    "difference=mean_neuroticism-median_neuroticism"
   ]
  },
  {
   "cell_type": "code",
   "execution_count": 25,
   "metadata": {},
   "outputs": [
    {
     "name": "stdout",
     "output_type": "stream",
     "text": [
      "mean: 3.8770951710234387 median: 3.833333333 difference: 0.04376183802343858\n"
     ]
    }
   ],
   "source": [
    "print(\"mean:\",mean_neuroticism,\"median:\",median_neuroticism,\"difference:\",difference)"
   ]
  },
  {
   "cell_type": "markdown",
   "metadata": {},
   "source": [
    "\n",
    "B. How many chimpanzees have only 2 numerical digits in their code?"
   ]
  },
  {
   "cell_type": "code",
   "execution_count": 26,
   "metadata": {},
   "outputs": [
    {
     "data": {
      "text/plain": [
       "21"
      ]
     },
     "execution_count": 26,
     "metadata": {},
     "output_type": "execute_result"
    }
   ],
   "source": [
    "sumdf['chimpcode'][sumdf['chimpcode'].str.contains(r\"^[A-Z][0-9]{2}$\")].count()"
   ]
  },
  {
   "cell_type": "markdown",
   "metadata": {},
   "source": [
    "C. Are there any chimpanzees whose code consists of letters earlier than ‘S’\n",
    "in the alphabet and whose numbers are all even?"
   ]
  },
  {
   "cell_type": "code",
   "execution_count": 27,
   "metadata": {},
   "outputs": [
    {
     "data": {
      "text/plain": [
       "10"
      ]
     },
     "execution_count": 27,
     "metadata": {},
     "output_type": "execute_result"
    }
   ],
   "source": [
    "sumdf['chimpcode'][sumdf['chimpcode'].str.contains(r\"^[A-S][02468]{0,3}$\")].count()"
   ]
  },
  {
   "cell_type": "markdown",
   "metadata": {},
   "source": [
    "D. What is the average difference in score between the conventional and\n",
    "decisive traits?"
   ]
  },
  {
   "cell_type": "code",
   "execution_count": 28,
   "metadata": {},
   "outputs": [
    {
     "data": {
      "text/plain": [
       "1.4657922753203125"
      ]
     },
     "execution_count": 28,
     "metadata": {},
     "output_type": "execute_result"
    }
   ],
   "source": [
    "statistics.mean(abs(sumdf['conv'] - sumdf['decs']))"
   ]
  },
  {
   "cell_type": "markdown",
   "metadata": {},
   "source": [
    "E. The final six columns (dominance to openness) correspond to the broad\n",
    "categories. By creating any relevant data frame to support your answer,\n",
    "which of these six broad characteristics is most prominent among female\n",
    "chimpanzees in the sample, and which was most prominent among the\n",
    "males"
   ]
  },
  {
   "cell_type": "code",
   "execution_count": 29,
   "metadata": {},
   "outputs": [
    {
     "data": {
      "text/html": [
       "<div>\n",
       "<style scoped>\n",
       "    .dataframe tbody tr th:only-of-type {\n",
       "        vertical-align: middle;\n",
       "    }\n",
       "\n",
       "    .dataframe tbody tr th {\n",
       "        vertical-align: top;\n",
       "    }\n",
       "\n",
       "    .dataframe thead th {\n",
       "        text-align: right;\n",
       "    }\n",
       "</style>\n",
       "<table border=\"1\" class=\"dataframe\">\n",
       "  <thead>\n",
       "    <tr style=\"text-align: right;\">\n",
       "      <th></th>\n",
       "      <th>sex</th>\n",
       "      <th>dominance</th>\n",
       "      <th>extraversion</th>\n",
       "      <th>conscientiousness</th>\n",
       "      <th>agreeableness</th>\n",
       "      <th>neuroticism</th>\n",
       "      <th>openness</th>\n",
       "    </tr>\n",
       "  </thead>\n",
       "  <tbody>\n",
       "    <tr>\n",
       "      <th>0</th>\n",
       "      <td>0</td>\n",
       "      <td>3.804156</td>\n",
       "      <td>4.349256</td>\n",
       "      <td>4.691202</td>\n",
       "      <td>4.430595</td>\n",
       "      <td>3.580546</td>\n",
       "      <td>3.640692</td>\n",
       "    </tr>\n",
       "    <tr>\n",
       "      <th>1</th>\n",
       "      <td>1</td>\n",
       "      <td>4.220803</td>\n",
       "      <td>4.890041</td>\n",
       "      <td>4.161139</td>\n",
       "      <td>4.662747</td>\n",
       "      <td>4.258373</td>\n",
       "      <td>4.397894</td>\n",
       "    </tr>\n",
       "  </tbody>\n",
       "</table>\n",
       "</div>"
      ],
      "text/plain": [
       "   sex  dominance  extraversion  conscientiousness  agreeableness  \\\n",
       "0    0   3.804156      4.349256           4.691202       4.430595   \n",
       "1    1   4.220803      4.890041           4.161139       4.662747   \n",
       "\n",
       "   neuroticism  openness  \n",
       "0     3.580546  3.640692  \n",
       "1     4.258373  4.397894  "
      ]
     },
     "execution_count": 29,
     "metadata": {},
     "output_type": "execute_result"
    }
   ],
   "source": [
    "a = sumdf.groupby('sex', as_index=False)[['dominance','extraversion','conscientiousness','agreeableness','neuroticism','openness']].mean()\n",
    "a"
   ]
  },
  {
   "cell_type": "code",
   "execution_count": 30,
   "metadata": {},
   "outputs": [
    {
     "data": {
      "text/html": [
       "<div>\n",
       "<style scoped>\n",
       "    .dataframe tbody tr th:only-of-type {\n",
       "        vertical-align: middle;\n",
       "    }\n",
       "\n",
       "    .dataframe tbody tr th {\n",
       "        vertical-align: top;\n",
       "    }\n",
       "\n",
       "    .dataframe thead th {\n",
       "        text-align: right;\n",
       "    }\n",
       "</style>\n",
       "<table border=\"1\" class=\"dataframe\">\n",
       "  <thead>\n",
       "    <tr style=\"text-align: right;\">\n",
       "      <th></th>\n",
       "      <th>sex</th>\n",
       "      <th>dominance</th>\n",
       "      <th>extraversion</th>\n",
       "      <th>conscientiousness</th>\n",
       "      <th>agreeableness</th>\n",
       "      <th>neuroticism</th>\n",
       "      <th>openness</th>\n",
       "    </tr>\n",
       "  </thead>\n",
       "  <tbody>\n",
       "    <tr>\n",
       "      <th>0</th>\n",
       "      <td>0.0</td>\n",
       "      <td>3.804156</td>\n",
       "      <td>4.349256</td>\n",
       "      <td>4.691202</td>\n",
       "      <td>4.430595</td>\n",
       "      <td>3.580546</td>\n",
       "      <td>3.640692</td>\n",
       "    </tr>\n",
       "    <tr>\n",
       "      <th>1</th>\n",
       "      <td>1.0</td>\n",
       "      <td>4.220803</td>\n",
       "      <td>4.890041</td>\n",
       "      <td>4.161139</td>\n",
       "      <td>4.662747</td>\n",
       "      <td>4.258373</td>\n",
       "      <td>4.397894</td>\n",
       "    </tr>\n",
       "    <tr>\n",
       "      <th>2</th>\n",
       "      <td>1.0</td>\n",
       "      <td>0.416646</td>\n",
       "      <td>0.540785</td>\n",
       "      <td>0.530062</td>\n",
       "      <td>0.232152</td>\n",
       "      <td>0.677827</td>\n",
       "      <td>0.757201</td>\n",
       "    </tr>\n",
       "  </tbody>\n",
       "</table>\n",
       "</div>"
      ],
      "text/plain": [
       "   sex  dominance  extraversion  conscientiousness  agreeableness  \\\n",
       "0  0.0   3.804156      4.349256           4.691202       4.430595   \n",
       "1  1.0   4.220803      4.890041           4.161139       4.662747   \n",
       "2  1.0   0.416646      0.540785           0.530062       0.232152   \n",
       "\n",
       "   neuroticism  openness  \n",
       "0     3.580546  3.640692  \n",
       "1     4.258373  4.397894  \n",
       "2     0.677827  0.757201  "
      ]
     },
     "execution_count": 30,
     "metadata": {},
     "output_type": "execute_result"
    }
   ],
   "source": [
    "# adding a new row containing the difference between the average male and female characteristics\n",
    "a.loc[2] = abs(a.iloc[0]-a.iloc[1])\n",
    "a"
   ]
  },
  {
   "cell_type": "code",
   "execution_count": 31,
   "metadata": {},
   "outputs": [
    {
     "data": {
      "text/plain": [
       "0    conscientiousness\n",
       "1         extraversion\n",
       "2             openness\n",
       "dtype: object"
      ]
     },
     "execution_count": 31,
     "metadata": {},
     "output_type": "execute_result"
    }
   ],
   "source": [
    "#maximum of each row\n",
    "a.iloc[:,1:len(a.columns)].idxmax(axis=1)"
   ]
  },
  {
   "cell_type": "markdown",
   "metadata": {},
   "source": [
    "Answer: The most prominent characteristic among female chimps is conscientiousness while the most prominent characteristic among male chimps is extraversion."
   ]
  },
  {
   "cell_type": "markdown",
   "metadata": {},
   "source": [
    "F. The columns from dom to innov are the 24 personality traits. You can see what these correspond to by downloading the PDF file in the website. Create a dictionary that maps personality traits to the number of chimpanzees for which that trait is the most prominent (i.e. has the highest score)."
   ]
  },
  {
   "cell_type": "code",
   "execution_count": 32,
   "metadata": {},
   "outputs": [
    {
     "data": {
      "text/plain": [
       "{'actv': 8,\n",
       " 'conv': 1,\n",
       " 'cool': 8,\n",
       " 'decs': 13,\n",
       " 'depd': 7,\n",
       " 'dom': 9,\n",
       " 'exct': 2,\n",
       " 'help': 16,\n",
       " 'impl': 3,\n",
       " 'indv': 2,\n",
       " 'innov': 7,\n",
       " 'inqs': 2,\n",
       " 'pred': 1,\n",
       " 'sens': 1,\n",
       " 'soc': 29,\n",
       " 'sol': 5,\n",
       " 'stbl': 1,\n",
       " 'symp': 13}"
      ]
     },
     "execution_count": 32,
     "metadata": {},
     "output_type": "execute_result"
    }
   ],
   "source": [
    "b = sumdf.iloc[:,0:len(sumdf.columns)-6].drop(['sex', 'kasekela'], axis=1)\n",
    "b = b.iloc[:,1:len(b.columns)].idxmax(axis=1).value_counts()\n",
    "b = b.to_dict()\n",
    "b"
   ]
  },
  {
   "cell_type": "markdown",
   "metadata": {},
   "source": [
    "G. Create a new data frame in the long data format. Specifically, it should use the chimpcode column as an index, the 24 personality columns should be represented in a traits column and their corresponding values should appear in a score column like this: \n",
    "\n",
    "| chimpcode     | traits        | score     |\n",
    "| ------------- |:-------------:| -----:    |\n",
    "| E131          | dom           | 2.428571  |\n",
    "| E131          | sol           |  3.857143 |\n",
    "\n",
    "\n",
    "This data frame should be sorted by chimpcod"
   ]
  },
  {
   "cell_type": "code",
   "execution_count": 33,
   "metadata": {},
   "outputs": [
    {
     "data": {
      "text/plain": [
       "chimpcode       \n",
       "A100       actv     4.333333\n",
       "           conv     3.000000\n",
       "           cool     4.666667\n",
       "           cur      2.000000\n",
       "           decs     4.666667\n",
       "           depd     3.333333\n",
       "           dom      1.666667\n",
       "           exct     1.666667\n",
       "           help     3.333333\n",
       "           impl     3.333333\n",
       "           indv     4.000000\n",
       "           innov    4.333333\n",
       "           inqs     1.333333\n",
       "           invt     3.333333\n",
       "           pred     3.000000\n",
       "           reckl    1.333333\n",
       "           sens     3.333333\n",
       "           soc      3.333333\n",
       "           sol      5.666667\n",
       "           stbl     3.666667\n",
       "           symp     4.000000\n",
       "           thotl    1.333333\n",
       "           unem     5.000000\n",
       "           vuln     3.000000\n",
       "A341       actv     6.000000\n",
       "           conv     2.600000\n",
       "           cool     5.200000\n",
       "           cur      5.600000\n",
       "           decs     6.800000\n",
       "           depd     3.600000\n",
       "dtype: float64"
      ]
     },
     "execution_count": 33,
     "metadata": {},
     "output_type": "execute_result"
    }
   ],
   "source": [
    "c = sumdf.iloc[:,0:len(sumdf.columns)-6].drop(['sex', 'kasekela'], axis=1)\n",
    "c  = c.set_index('chimpcode').stack().sort_index()\n",
    "c.head(30)"
   ]
  },
  {
   "cell_type": "markdown",
   "metadata": {},
   "source": [
    "\n",
    "H. On the basis of the 24 personality traits alone, which pair of chimpanzees\n",
    "would you say are the least similar to each other?"
   ]
  },
  {
   "cell_type": "code",
   "execution_count": 34,
   "metadata": {
    "scrolled": true
   },
   "outputs": [
    {
     "name": "stdout",
     "output_type": "stream",
     "text": [
      "Chimp with id = O468 and chimp with id = U376 are the least similar chimps\n",
      "Their characteristics are the following\n",
      "\n",
      "           dom       sol      impl      symp  stbl      invt      depd  \\\n",
      "chimpcode                                                                \n",
      "O468       1.0  3.666667  5.333333  5.000000   5.0  4.000000  2.000000   \n",
      "U376       7.0  1.333333  6.333333  4.333333   3.0  4.666667  4.333333   \n",
      "\n",
      "                soc     thotl      help  ...       reckl      sens      unem  \\\n",
      "chimpcode                                ...                                   \n",
      "O468       2.333333  1.666667  2.000000  ...    2.333333  5.333333  2.333333   \n",
      "U376       6.666667  4.000000  6.333333  ...    3.333333  5.000000  2.666667   \n",
      "\n",
      "           cur      vuln  actv      pred      conv      cool  innov  \n",
      "chimpcode                                                            \n",
      "O468       2.0  4.666667   3.0  3.878655  3.333333  4.000000    2.0  \n",
      "U376       5.0  4.333333   5.0  5.333333  4.000000  6.333333    7.0  \n",
      "\n",
      "[2 rows x 24 columns]\n"
     ]
    }
   ],
   "source": [
    "d = sumdf.iloc[:,0:len(sumdf.columns)-6].drop(['sex', 'kasekela'], axis=1).set_index('chimpcode')\n",
    "sim = euclidean_distances(d)\n",
    "test = list(divmod(sim.argmax(), sim.shape[1]))\n",
    "\n",
    "print('Chimp with id =', d.iloc[test,:].index.values[0], 'and chimp with id =', d.iloc[test,:].index.values[1], 'are the least similar chimps')\n",
    "print('Their characteristics are the following\\n')\n",
    "print(d.iloc[test,:])"
   ]
  },
  {
   "cell_type": "markdown",
   "metadata": {},
   "source": [
    "Question 3 (32 points):\n",
    "\n",
    "You should have downloaded the second dataset that we will use, along with the instructions to this assignment, in the file yelp_academic_dataset_business.json.You can load this into a Pandas data frame by executing the code below.Make sure you include this snippet in your\n",
    "notebook:"
   ]
  },
  {
   "cell_type": "code",
   "execution_count": 35,
   "metadata": {},
   "outputs": [],
   "source": [
    "import json\n",
    "yelp_file = 'yelp_academic_dataset_business.json'\n",
    "yelp_rows = [json.loads(line) for line in\n",
    "open(yelp_file)]\n",
    "yelpdf = pd.DataFrame(yelp_rows)"
   ]
  },
  {
   "cell_type": "markdown",
   "metadata": {},
   "source": [
    "A. How many businesses have the word ‘club’ anywhere in their name (ignoring case) in this data frame"
   ]
  },
  {
   "cell_type": "code",
   "execution_count": 36,
   "metadata": {},
   "outputs": [
    {
     "data": {
      "text/plain": [
       "144"
      ]
     },
     "execution_count": 36,
     "metadata": {},
     "output_type": "execute_result"
    }
   ],
   "source": [
    "q1 = pd.DataFrame(yelpdf, columns = ['name'])\n",
    "q1['name'][q1['name'].str.contains(r\"\\bclub\\b\", case = False)].count()"
   ]
  },
  {
   "cell_type": "markdown",
   "metadata": {},
   "source": [
    "B. The basic US zip code format has 5 digits. You can spot these at the end of most entries in the full_address column. How many entries in the data frame do not have a zip code?"
   ]
  },
  {
   "cell_type": "code",
   "execution_count": 37,
   "metadata": {},
   "outputs": [
    {
     "data": {
      "text/plain": [
       "64"
      ]
     },
     "execution_count": 37,
     "metadata": {},
     "output_type": "execute_result"
    }
   ],
   "source": [
    "yelpdf['full_address'][~yelpdf['full_address'].str.contains(r\"\\b[0-9]{5}$\\b\")].count()"
   ]
  },
  {
   "cell_type": "markdown",
   "metadata": {},
   "source": [
    "C. Remove all the entries in the data frame that do not have a zip code and then create a new column titled zip_code in the data frame by extracting this information from the text address"
   ]
  },
  {
   "cell_type": "code",
   "execution_count": 48,
   "metadata": {},
   "outputs": [
    {
     "name": "stderr",
     "output_type": "stream",
     "text": [
      "C:\\ProgramData\\Anaconda3\\lib\\site-packages\\pandas\\core\\indexing.py:357: SettingWithCopyWarning: \n",
      "A value is trying to be set on a copy of a slice from a DataFrame.\n",
      "Try using .loc[row_indexer,col_indexer] = value instead\n",
      "\n",
      "See the caveats in the documentation: http://pandas.pydata.org/pandas-docs/stable/indexing.html#indexing-view-versus-copy\n",
      "  self.obj[key] = _infer_fill_value(value)\n",
      "C:\\ProgramData\\Anaconda3\\lib\\site-packages\\pandas\\core\\indexing.py:537: SettingWithCopyWarning: \n",
      "A value is trying to be set on a copy of a slice from a DataFrame.\n",
      "Try using .loc[row_indexer,col_indexer] = value instead\n",
      "\n",
      "See the caveats in the documentation: http://pandas.pydata.org/pandas-docs/stable/indexing.html#indexing-view-versus-copy\n",
      "  self.obj[item] = s\n"
     ]
    },
    {
     "data": {
      "text/html": [
       "<div>\n",
       "<style scoped>\n",
       "    .dataframe tbody tr th:only-of-type {\n",
       "        vertical-align: middle;\n",
       "    }\n",
       "\n",
       "    .dataframe tbody tr th {\n",
       "        vertical-align: top;\n",
       "    }\n",
       "\n",
       "    .dataframe thead th {\n",
       "        text-align: right;\n",
       "    }\n",
       "</style>\n",
       "<table border=\"1\" class=\"dataframe\">\n",
       "  <thead>\n",
       "    <tr style=\"text-align: right;\">\n",
       "      <th></th>\n",
       "      <th>attributes</th>\n",
       "      <th>business_id</th>\n",
       "      <th>categories</th>\n",
       "      <th>city</th>\n",
       "      <th>full_address</th>\n",
       "      <th>hours</th>\n",
       "      <th>latitude</th>\n",
       "      <th>longitude</th>\n",
       "      <th>name</th>\n",
       "      <th>neighborhoods</th>\n",
       "      <th>open</th>\n",
       "      <th>review_count</th>\n",
       "      <th>stars</th>\n",
       "      <th>state</th>\n",
       "      <th>type</th>\n",
       "      <th>zip_code</th>\n",
       "    </tr>\n",
       "  </thead>\n",
       "  <tbody>\n",
       "    <tr>\n",
       "      <th>0</th>\n",
       "      <td>{'Take-out': False, 'Wi-Fi': 'free', 'Good For...</td>\n",
       "      <td>O_X3PGhk3Y5JWVi866qlJg</td>\n",
       "      <td>Active Life,Arts &amp; Entertainment,Stadiums &amp; Ar...</td>\n",
       "      <td>Phoenix</td>\n",
       "      <td>1501 W Bell Rd\\nPhoenix, AZ 85023</td>\n",
       "      <td>{'Monday': {'close': '18:00', 'open': '11:00'}...</td>\n",
       "      <td>33.638573</td>\n",
       "      <td>-112.092329</td>\n",
       "      <td>Turf Paradise Race Course</td>\n",
       "      <td>[]</td>\n",
       "      <td>True</td>\n",
       "      <td>29</td>\n",
       "      <td>4.0</td>\n",
       "      <td>AZ</td>\n",
       "      <td>business</td>\n",
       "      <td>85023</td>\n",
       "    </tr>\n",
       "    <tr>\n",
       "      <th>1</th>\n",
       "      <td>{'Parking': {'garage': False, 'street': False,...</td>\n",
       "      <td>QbrM7wqtmoNncqjc6GtFaQ</td>\n",
       "      <td>Tires,Automotive,Fashion,Shopping,Department S...</td>\n",
       "      <td>Glendale</td>\n",
       "      <td>18501 N 83rd Avenue\\nGlendale, AZ 85308</td>\n",
       "      <td>{}</td>\n",
       "      <td>33.648545</td>\n",
       "      <td>-112.234755</td>\n",
       "      <td>Sam's Club Members Only</td>\n",
       "      <td>[]</td>\n",
       "      <td>True</td>\n",
       "      <td>3</td>\n",
       "      <td>3.5</td>\n",
       "      <td>AZ</td>\n",
       "      <td>business</td>\n",
       "      <td>85308</td>\n",
       "    </tr>\n",
       "  </tbody>\n",
       "</table>\n",
       "</div>"
      ],
      "text/plain": [
       "                                          attributes             business_id  \\\n",
       "0  {'Take-out': False, 'Wi-Fi': 'free', 'Good For...  O_X3PGhk3Y5JWVi866qlJg   \n",
       "1  {'Parking': {'garage': False, 'street': False,...  QbrM7wqtmoNncqjc6GtFaQ   \n",
       "\n",
       "                                          categories      city  \\\n",
       "0  Active Life,Arts & Entertainment,Stadiums & Ar...   Phoenix   \n",
       "1  Tires,Automotive,Fashion,Shopping,Department S...  Glendale   \n",
       "\n",
       "                              full_address  \\\n",
       "0        1501 W Bell Rd\\nPhoenix, AZ 85023   \n",
       "1  18501 N 83rd Avenue\\nGlendale, AZ 85308   \n",
       "\n",
       "                                               hours   latitude   longitude  \\\n",
       "0  {'Monday': {'close': '18:00', 'open': '11:00'}...  33.638573 -112.092329   \n",
       "1                                                 {}  33.648545 -112.234755   \n",
       "\n",
       "                        name neighborhoods  open  review_count  stars state  \\\n",
       "0  Turf Paradise Race Course            []  True            29    4.0    AZ   \n",
       "1    Sam's Club Members Only            []  True             3    3.5    AZ   \n",
       "\n",
       "       type zip_code  \n",
       "0  business    85023  \n",
       "1  business    85308  "
      ]
     },
     "execution_count": 48,
     "metadata": {},
     "output_type": "execute_result"
    }
   ],
   "source": [
    "patternDel = '[0-9]{5}$'\n",
    "filter = yelpdf['full_address'].str.contains(patternDel)\n",
    "q3 = yelpdf[filter]\n",
    "q3.loc[:,'zip_code'] = pd.Series(q3['full_address'].str.findall(patternDel), index=q3.index).str[0]\n",
    "q3.head(2)"
   ]
  },
  {
   "cell_type": "markdown",
   "metadata": {},
   "source": [
    "D. Create a multi-level index on this data frame using the city, zip_code and then business_id columns"
   ]
  },
  {
   "cell_type": "code",
   "execution_count": 49,
   "metadata": {},
   "outputs": [
    {
     "data": {
      "text/html": [
       "<div>\n",
       "<style scoped>\n",
       "    .dataframe tbody tr th:only-of-type {\n",
       "        vertical-align: middle;\n",
       "    }\n",
       "\n",
       "    .dataframe tbody tr th {\n",
       "        vertical-align: top;\n",
       "    }\n",
       "\n",
       "    .dataframe thead th {\n",
       "        text-align: right;\n",
       "    }\n",
       "</style>\n",
       "<table border=\"1\" class=\"dataframe\">\n",
       "  <thead>\n",
       "    <tr style=\"text-align: right;\">\n",
       "      <th></th>\n",
       "      <th></th>\n",
       "      <th></th>\n",
       "      <th>attributes</th>\n",
       "      <th>categories</th>\n",
       "      <th>full_address</th>\n",
       "      <th>hours</th>\n",
       "      <th>latitude</th>\n",
       "      <th>longitude</th>\n",
       "      <th>name</th>\n",
       "      <th>neighborhoods</th>\n",
       "      <th>open</th>\n",
       "      <th>review_count</th>\n",
       "      <th>stars</th>\n",
       "      <th>state</th>\n",
       "      <th>type</th>\n",
       "    </tr>\n",
       "    <tr>\n",
       "      <th>city</th>\n",
       "      <th>zip_code</th>\n",
       "      <th>business_id</th>\n",
       "      <th></th>\n",
       "      <th></th>\n",
       "      <th></th>\n",
       "      <th></th>\n",
       "      <th></th>\n",
       "      <th></th>\n",
       "      <th></th>\n",
       "      <th></th>\n",
       "      <th></th>\n",
       "      <th></th>\n",
       "      <th></th>\n",
       "      <th></th>\n",
       "      <th></th>\n",
       "    </tr>\n",
       "  </thead>\n",
       "  <tbody>\n",
       "    <tr>\n",
       "      <th>Phoenix</th>\n",
       "      <th>85023</th>\n",
       "      <th>O_X3PGhk3Y5JWVi866qlJg</th>\n",
       "      <td>{'Take-out': False, 'Wi-Fi': 'free', 'Good For...</td>\n",
       "      <td>Active Life,Arts &amp; Entertainment,Stadiums &amp; Ar...</td>\n",
       "      <td>1501 W Bell Rd\\nPhoenix, AZ 85023</td>\n",
       "      <td>{'Monday': {'close': '18:00', 'open': '11:00'}...</td>\n",
       "      <td>33.638573</td>\n",
       "      <td>-112.092329</td>\n",
       "      <td>Turf Paradise Race Course</td>\n",
       "      <td>[]</td>\n",
       "      <td>True</td>\n",
       "      <td>29</td>\n",
       "      <td>4.0</td>\n",
       "      <td>AZ</td>\n",
       "      <td>business</td>\n",
       "    </tr>\n",
       "    <tr>\n",
       "      <th>Glendale</th>\n",
       "      <th>85308</th>\n",
       "      <th>QbrM7wqtmoNncqjc6GtFaQ</th>\n",
       "      <td>{'Parking': {'garage': False, 'street': False,...</td>\n",
       "      <td>Tires,Automotive,Fashion,Shopping,Department S...</td>\n",
       "      <td>18501 N 83rd Avenue\\nGlendale, AZ 85308</td>\n",
       "      <td>{}</td>\n",
       "      <td>33.648545</td>\n",
       "      <td>-112.234755</td>\n",
       "      <td>Sam's Club Members Only</td>\n",
       "      <td>[]</td>\n",
       "      <td>True</td>\n",
       "      <td>3</td>\n",
       "      <td>3.5</td>\n",
       "      <td>AZ</td>\n",
       "      <td>business</td>\n",
       "    </tr>\n",
       "  </tbody>\n",
       "</table>\n",
       "</div>"
      ],
      "text/plain": [
       "                                                                                 attributes  \\\n",
       "city     zip_code business_id                                                                 \n",
       "Phoenix  85023    O_X3PGhk3Y5JWVi866qlJg  {'Take-out': False, 'Wi-Fi': 'free', 'Good For...   \n",
       "Glendale 85308    QbrM7wqtmoNncqjc6GtFaQ  {'Parking': {'garage': False, 'street': False,...   \n",
       "\n",
       "                                                                                 categories  \\\n",
       "city     zip_code business_id                                                                 \n",
       "Phoenix  85023    O_X3PGhk3Y5JWVi866qlJg  Active Life,Arts & Entertainment,Stadiums & Ar...   \n",
       "Glendale 85308    QbrM7wqtmoNncqjc6GtFaQ  Tires,Automotive,Fashion,Shopping,Department S...   \n",
       "\n",
       "                                                                     full_address  \\\n",
       "city     zip_code business_id                                                       \n",
       "Phoenix  85023    O_X3PGhk3Y5JWVi866qlJg        1501 W Bell Rd\\nPhoenix, AZ 85023   \n",
       "Glendale 85308    QbrM7wqtmoNncqjc6GtFaQ  18501 N 83rd Avenue\\nGlendale, AZ 85308   \n",
       "\n",
       "                                                                                      hours  \\\n",
       "city     zip_code business_id                                                                 \n",
       "Phoenix  85023    O_X3PGhk3Y5JWVi866qlJg  {'Monday': {'close': '18:00', 'open': '11:00'}...   \n",
       "Glendale 85308    QbrM7wqtmoNncqjc6GtFaQ                                                 {}   \n",
       "\n",
       "                                           latitude   longitude  \\\n",
       "city     zip_code business_id                                     \n",
       "Phoenix  85023    O_X3PGhk3Y5JWVi866qlJg  33.638573 -112.092329   \n",
       "Glendale 85308    QbrM7wqtmoNncqjc6GtFaQ  33.648545 -112.234755   \n",
       "\n",
       "                                                               name  \\\n",
       "city     zip_code business_id                                         \n",
       "Phoenix  85023    O_X3PGhk3Y5JWVi866qlJg  Turf Paradise Race Course   \n",
       "Glendale 85308    QbrM7wqtmoNncqjc6GtFaQ    Sam's Club Members Only   \n",
       "\n",
       "                                         neighborhoods  open  review_count  \\\n",
       "city     zip_code business_id                                                \n",
       "Phoenix  85023    O_X3PGhk3Y5JWVi866qlJg            []  True            29   \n",
       "Glendale 85308    QbrM7wqtmoNncqjc6GtFaQ            []  True             3   \n",
       "\n",
       "                                          stars state      type  \n",
       "city     zip_code business_id                                    \n",
       "Phoenix  85023    O_X3PGhk3Y5JWVi866qlJg    4.0    AZ  business  \n",
       "Glendale 85308    QbrM7wqtmoNncqjc6GtFaQ    3.5    AZ  business  "
      ]
     },
     "execution_count": 49,
     "metadata": {},
     "output_type": "execute_result"
    }
   ],
   "source": [
    "q4 = q3.set_index(['city', 'zip_code', 'business_id'])\n",
    "q4.head(2)"
   ]
  },
  {
   "cell_type": "markdown",
   "metadata": {},
   "source": [
    "E. In the first Pandas notebook in class we saw how we could plot data when given latitude and longitude to plot taxi rides. In particular, we met a function useful for doing Mercator projections as well as some code that uses Matplotlib to plot multiple data points nicely on a black and white map. Use this code to plot the businesses in your data frame using the same approach taking care to adjust the xlim and ylim parameters of your plot so that it zooms in the relevant part of the map."
   ]
  },
  {
   "cell_type": "code",
   "execution_count": 50,
   "metadata": {},
   "outputs": [
    {
     "data": {
      "text/plain": [
       "<matplotlib.collections.PathCollection at 0x12c0ee65668>"
      ]
     },
     "execution_count": 50,
     "metadata": {},
     "output_type": "execute_result"
    },
    {
     "data": {
      "image/png": "[encoded data removed]",
      "text/plain": [
       "<matplotlib.figure.Figure at 0x12c0ef03d68>"
      ]
     },
     "metadata": {},
     "output_type": "display_data"
    }
   ],
   "source": [
    "lng = q3.longitude\n",
    "lat = q3.latitude\n",
    "\n",
    "def lat_lng_to_pixels(lat, lng):\n",
    "    lat_rad = lat * np.pi / 180.0\n",
    "    lat_rad = np.log(np.tan((lat_rad + np.pi / 2.0) / 2.0))\n",
    "    x = 100 * (lng + 180.0) / 360.0\n",
    "    y = 100 * (lat_rad - np.pi) / (2.0 * np.pi)\n",
    "    return (x, y)\n",
    "\n",
    "\n",
    "px, py = lat_lng_to_pixels(lat, lng)\n",
    "px.min()\n",
    "px.max()\n",
    "py.min()\n",
    "py.max()\n",
    "\n",
    "\n",
    "plt.figure(figsize=(12, 10))\n",
    "plt.axis('equal')\n",
    "plt.xlim(18.628434722222224, 19.093456499999998)\n",
    "plt.ylim(-40.320799566245469, -39.930537385207046)\n",
    "\n",
    "plt.gca().set_facecolor('white')\n",
    "plt.scatter(px, py, s=.4, alpha=.05, color='black')\n"
   ]
  },
  {
   "cell_type": "markdown",
   "metadata": {},
   "source": [
    "F. How many unique categories can we find within the categories column inside this data frame?"
   ]
  },
  {
   "cell_type": "code",
   "execution_count": 42,
   "metadata": {},
   "outputs": [
    {
     "data": {
      "text/plain": [
       "591"
      ]
     },
     "execution_count": 42,
     "metadata": {},
     "output_type": "execute_result"
    }
   ],
   "source": [
    "s = set()\n",
    "\n",
    "for i in range(0, len(yelpdf['categories'])):\n",
    "\n",
    "    for item in yelpdf['categories'][i]:\n",
    "        s.add(item)\n",
    "\n",
    "len(s)"
   ]
  },
  {
   "cell_type": "markdown",
   "metadata": {},
   "source": [
    "G. What is the most reviewed business with the “Pet” category (‘Bakeries’ category) in the city of Phoenix?"
   ]
  },
  {
   "cell_type": "code",
   "execution_count": 43,
   "metadata": {},
   "outputs": [],
   "source": [
    "q7 = yelpdf\n",
    "q7['categories'] = q7['categories'].apply(lambda x: ','.join(map(str, x)))"
   ]
  },
  {
   "cell_type": "code",
   "execution_count": 44,
   "metadata": {},
   "outputs": [
    {
     "data": {
      "text/plain": [
       "name            Willo Baking Company\n",
       "review_count                     218\n",
       "dtype: object"
      ]
     },
     "execution_count": 44,
     "metadata": {},
     "output_type": "execute_result"
    }
   ],
   "source": [
    "q7[(q7['city'] == 'Phoenix') & (q7['categories'].str.contains(r\"\\bBakeries\\b\", case = True))].groupby('name', as_index=False)[['review_count']].sum().max()"
   ]
  },
  {
   "cell_type": "code",
   "execution_count": 45,
   "metadata": {},
   "outputs": [
    {
     "data": {
      "text/plain": [
       "name            Your Dog Guru\n",
       "review_count              102\n",
       "dtype: object"
      ]
     },
     "execution_count": 45,
     "metadata": {},
     "output_type": "execute_result"
    }
   ],
   "source": [
    "q7[(q7['city'] == 'Phoenix') & (q7['categories'].str.contains(r\"\\bPets\\b\", case = True))].groupby('name', as_index=False)[['review_count']].sum().max()"
   ]
  },
  {
   "cell_type": "code",
   "execution_count": 46,
   "metadata": {},
   "outputs": [
    {
     "data": {
      "text/plain": [
       "name            Your Dog Guru\n",
       "review_count              102\n",
       "dtype: object"
      ]
     },
     "execution_count": 46,
     "metadata": {},
     "output_type": "execute_result"
    }
   ],
   "source": [
    "q7[(q7['city'] == 'Phoenix') & (q7['categories'].str.contains(r\"\\bPet\\b\", case = True))].groupby('name', as_index=False)[['review_count']].sum().max()"
   ]
  },
  {
   "cell_type": "markdown",
   "metadata": {},
   "source": [
    "H. Create a data frame that counts the number of four-star-and-above businesses per city in your data frame"
   ]
  },
  {
   "cell_type": "code",
   "execution_count": 47,
   "metadata": {},
   "outputs": [
    {
     "data": {
      "text/html": [
       "<div>\n",
       "<style scoped>\n",
       "    .dataframe tbody tr th:only-of-type {\n",
       "        vertical-align: middle;\n",
       "    }\n",
       "\n",
       "    .dataframe tbody tr th {\n",
       "        vertical-align: top;\n",
       "    }\n",
       "\n",
       "    .dataframe thead th {\n",
       "        text-align: right;\n",
       "    }\n",
       "</style>\n",
       "<table border=\"1\" class=\"dataframe\">\n",
       "  <thead>\n",
       "    <tr style=\"text-align: right;\">\n",
       "      <th></th>\n",
       "      <th>city</th>\n",
       "      <th>name</th>\n",
       "    </tr>\n",
       "  </thead>\n",
       "  <tbody>\n",
       "    <tr>\n",
       "      <th>0</th>\n",
       "      <td>Ahwatukee</td>\n",
       "      <td>4</td>\n",
       "    </tr>\n",
       "    <tr>\n",
       "      <th>1</th>\n",
       "      <td>Anthem</td>\n",
       "      <td>17</td>\n",
       "    </tr>\n",
       "    <tr>\n",
       "      <th>2</th>\n",
       "      <td>Apache Junction</td>\n",
       "      <td>37</td>\n",
       "    </tr>\n",
       "    <tr>\n",
       "      <th>3</th>\n",
       "      <td>Arcadia</td>\n",
       "      <td>1</td>\n",
       "    </tr>\n",
       "    <tr>\n",
       "      <th>4</th>\n",
       "      <td>Avondale</td>\n",
       "      <td>82</td>\n",
       "    </tr>\n",
       "    <tr>\n",
       "      <th>5</th>\n",
       "      <td>Buckeye</td>\n",
       "      <td>16</td>\n",
       "    </tr>\n",
       "    <tr>\n",
       "      <th>6</th>\n",
       "      <td>Carefree</td>\n",
       "      <td>19</td>\n",
       "    </tr>\n",
       "    <tr>\n",
       "      <th>7</th>\n",
       "      <td>Casa Grande</td>\n",
       "      <td>21</td>\n",
       "    </tr>\n",
       "    <tr>\n",
       "      <th>8</th>\n",
       "      <td>Cave Creek</td>\n",
       "      <td>71</td>\n",
       "    </tr>\n",
       "    <tr>\n",
       "      <th>9</th>\n",
       "      <td>Chandler</td>\n",
       "      <td>584</td>\n",
       "    </tr>\n",
       "    <tr>\n",
       "      <th>10</th>\n",
       "      <td>Charleston</td>\n",
       "      <td>1</td>\n",
       "    </tr>\n",
       "    <tr>\n",
       "      <th>11</th>\n",
       "      <td>Coolidge</td>\n",
       "      <td>3</td>\n",
       "    </tr>\n",
       "    <tr>\n",
       "      <th>12</th>\n",
       "      <td>El Mirage</td>\n",
       "      <td>11</td>\n",
       "    </tr>\n",
       "    <tr>\n",
       "      <th>13</th>\n",
       "      <td>Florence</td>\n",
       "      <td>8</td>\n",
       "    </tr>\n",
       "    <tr>\n",
       "      <th>14</th>\n",
       "      <td>Fort McDowell</td>\n",
       "      <td>1</td>\n",
       "    </tr>\n",
       "    <tr>\n",
       "      <th>15</th>\n",
       "      <td>Fountain Hills</td>\n",
       "      <td>33</td>\n",
       "    </tr>\n",
       "    <tr>\n",
       "      <th>16</th>\n",
       "      <td>Gila Bend</td>\n",
       "      <td>9</td>\n",
       "    </tr>\n",
       "    <tr>\n",
       "      <th>17</th>\n",
       "      <td>Gilbert</td>\n",
       "      <td>326</td>\n",
       "    </tr>\n",
       "    <tr>\n",
       "      <th>18</th>\n",
       "      <td>Glendale</td>\n",
       "      <td>376</td>\n",
       "    </tr>\n",
       "    <tr>\n",
       "      <th>19</th>\n",
       "      <td>Glendale Az</td>\n",
       "      <td>1</td>\n",
       "    </tr>\n",
       "    <tr>\n",
       "      <th>20</th>\n",
       "      <td>Gold Canyon</td>\n",
       "      <td>8</td>\n",
       "    </tr>\n",
       "    <tr>\n",
       "      <th>21</th>\n",
       "      <td>Goodyear</td>\n",
       "      <td>91</td>\n",
       "    </tr>\n",
       "    <tr>\n",
       "      <th>22</th>\n",
       "      <td>Guadalupe</td>\n",
       "      <td>4</td>\n",
       "    </tr>\n",
       "    <tr>\n",
       "      <th>23</th>\n",
       "      <td>Higley</td>\n",
       "      <td>4</td>\n",
       "    </tr>\n",
       "    <tr>\n",
       "      <th>24</th>\n",
       "      <td>Laveen</td>\n",
       "      <td>17</td>\n",
       "    </tr>\n",
       "    <tr>\n",
       "      <th>25</th>\n",
       "      <td>Litchfield Park</td>\n",
       "      <td>12</td>\n",
       "    </tr>\n",
       "    <tr>\n",
       "      <th>26</th>\n",
       "      <td>Litchfield Park</td>\n",
       "      <td>1</td>\n",
       "    </tr>\n",
       "    <tr>\n",
       "      <th>27</th>\n",
       "      <td>Maricopa</td>\n",
       "      <td>25</td>\n",
       "    </tr>\n",
       "    <tr>\n",
       "      <th>28</th>\n",
       "      <td>Mesa</td>\n",
       "      <td>676</td>\n",
       "    </tr>\n",
       "    <tr>\n",
       "      <th>29</th>\n",
       "      <td>Morristown</td>\n",
       "      <td>2</td>\n",
       "    </tr>\n",
       "    <tr>\n",
       "      <th>30</th>\n",
       "      <td>North Pinal</td>\n",
       "      <td>1</td>\n",
       "    </tr>\n",
       "    <tr>\n",
       "      <th>31</th>\n",
       "      <td>North Scottsdale</td>\n",
       "      <td>1</td>\n",
       "    </tr>\n",
       "    <tr>\n",
       "      <th>32</th>\n",
       "      <td>Paradise Valley</td>\n",
       "      <td>40</td>\n",
       "    </tr>\n",
       "    <tr>\n",
       "      <th>33</th>\n",
       "      <td>Peopria</td>\n",
       "      <td>1</td>\n",
       "    </tr>\n",
       "    <tr>\n",
       "      <th>34</th>\n",
       "      <td>Peoria</td>\n",
       "      <td>179</td>\n",
       "    </tr>\n",
       "    <tr>\n",
       "      <th>35</th>\n",
       "      <td>Phoenix</td>\n",
       "      <td>2704</td>\n",
       "    </tr>\n",
       "    <tr>\n",
       "      <th>36</th>\n",
       "      <td>Queen Creek</td>\n",
       "      <td>50</td>\n",
       "    </tr>\n",
       "    <tr>\n",
       "      <th>37</th>\n",
       "      <td>Rio Verde</td>\n",
       "      <td>1</td>\n",
       "    </tr>\n",
       "    <tr>\n",
       "      <th>38</th>\n",
       "      <td>San Tan Valley</td>\n",
       "      <td>14</td>\n",
       "    </tr>\n",
       "    <tr>\n",
       "      <th>39</th>\n",
       "      <td>Scottsdale</td>\n",
       "      <td>1430</td>\n",
       "    </tr>\n",
       "    <tr>\n",
       "      <th>40</th>\n",
       "      <td>Sun City</td>\n",
       "      <td>25</td>\n",
       "    </tr>\n",
       "    <tr>\n",
       "      <th>41</th>\n",
       "      <td>Sun City West</td>\n",
       "      <td>2</td>\n",
       "    </tr>\n",
       "    <tr>\n",
       "      <th>42</th>\n",
       "      <td>Sun Lakes</td>\n",
       "      <td>3</td>\n",
       "    </tr>\n",
       "    <tr>\n",
       "      <th>43</th>\n",
       "      <td>Surprise</td>\n",
       "      <td>104</td>\n",
       "    </tr>\n",
       "    <tr>\n",
       "      <th>44</th>\n",
       "      <td>Surprise Crossing</td>\n",
       "      <td>1</td>\n",
       "    </tr>\n",
       "    <tr>\n",
       "      <th>45</th>\n",
       "      <td>Tempe</td>\n",
       "      <td>680</td>\n",
       "    </tr>\n",
       "    <tr>\n",
       "      <th>46</th>\n",
       "      <td>Tolleson</td>\n",
       "      <td>13</td>\n",
       "    </tr>\n",
       "    <tr>\n",
       "      <th>47</th>\n",
       "      <td>Tonopah</td>\n",
       "      <td>2</td>\n",
       "    </tr>\n",
       "    <tr>\n",
       "      <th>48</th>\n",
       "      <td>Tonto Basin</td>\n",
       "      <td>1</td>\n",
       "    </tr>\n",
       "    <tr>\n",
       "      <th>49</th>\n",
       "      <td>Tortilla Flat</td>\n",
       "      <td>2</td>\n",
       "    </tr>\n",
       "    <tr>\n",
       "      <th>50</th>\n",
       "      <td>Verde Valley</td>\n",
       "      <td>1</td>\n",
       "    </tr>\n",
       "    <tr>\n",
       "      <th>51</th>\n",
       "      <td>Waddell</td>\n",
       "      <td>2</td>\n",
       "    </tr>\n",
       "    <tr>\n",
       "      <th>52</th>\n",
       "      <td>Wickenburg</td>\n",
       "      <td>20</td>\n",
       "    </tr>\n",
       "    <tr>\n",
       "      <th>53</th>\n",
       "      <td>Wittmann</td>\n",
       "      <td>1</td>\n",
       "    </tr>\n",
       "    <tr>\n",
       "      <th>54</th>\n",
       "      <td>Youngtown</td>\n",
       "      <td>7</td>\n",
       "    </tr>\n",
       "    <tr>\n",
       "      <th>55</th>\n",
       "      <td>chandler</td>\n",
       "      <td>1</td>\n",
       "    </tr>\n",
       "  </tbody>\n",
       "</table>\n",
       "</div>"
      ],
      "text/plain": [
       "                 city  name\n",
       "0           Ahwatukee     4\n",
       "1              Anthem    17\n",
       "2     Apache Junction    37\n",
       "3             Arcadia     1\n",
       "4            Avondale    82\n",
       "5             Buckeye    16\n",
       "6            Carefree    19\n",
       "7         Casa Grande    21\n",
       "8          Cave Creek    71\n",
       "9            Chandler   584\n",
       "10         Charleston     1\n",
       "11           Coolidge     3\n",
       "12          El Mirage    11\n",
       "13           Florence     8\n",
       "14      Fort McDowell     1\n",
       "15     Fountain Hills    33\n",
       "16          Gila Bend     9\n",
       "17            Gilbert   326\n",
       "18           Glendale   376\n",
       "19        Glendale Az     1\n",
       "20        Gold Canyon     8\n",
       "21           Goodyear    91\n",
       "22          Guadalupe     4\n",
       "23             Higley     4\n",
       "24             Laveen    17\n",
       "25    Litchfield Park    12\n",
       "26   Litchfield Park      1\n",
       "27           Maricopa    25\n",
       "28               Mesa   676\n",
       "29         Morristown     2\n",
       "30        North Pinal     1\n",
       "31   North Scottsdale     1\n",
       "32    Paradise Valley    40\n",
       "33            Peopria     1\n",
       "34             Peoria   179\n",
       "35            Phoenix  2704\n",
       "36        Queen Creek    50\n",
       "37          Rio Verde     1\n",
       "38     San Tan Valley    14\n",
       "39         Scottsdale  1430\n",
       "40           Sun City    25\n",
       "41      Sun City West     2\n",
       "42          Sun Lakes     3\n",
       "43           Surprise   104\n",
       "44  Surprise Crossing     1\n",
       "45              Tempe   680\n",
       "46           Tolleson    13\n",
       "47            Tonopah     2\n",
       "48        Tonto Basin     1\n",
       "49      Tortilla Flat     2\n",
       "50       Verde Valley     1\n",
       "51            Waddell     2\n",
       "52         Wickenburg    20\n",
       "53           Wittmann     1\n",
       "54          Youngtown     7\n",
       "55           chandler     1"
      ]
     },
     "execution_count": 47,
     "metadata": {},
     "output_type": "execute_result"
    }
   ],
   "source": [
    "yelpdf[(yelpdf['stars'] >=4)].groupby('city', as_index=False)[['name']].count()"
   ]
  }
 ],
 "metadata": {
  "kernelspec": {
   "display_name": "Python 3",
   "language": "python",
   "name": "python3"
  },
  "language_info": {
   "codemirror_mode": {
    "name": "ipython",
    "version": 3
   },
   "file_extension": ".py",
   "mimetype": "text/x-python",
   "name": "python",
   "nbconvert_exporter": "python",
   "pygments_lexer": "ipython3",
   "version": "3.6.4"
  }
 },
 "nbformat": 4,
 "nbformat_minor": 2
}
